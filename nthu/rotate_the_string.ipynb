{
 "cells": [
  {
   "cell_type": "code",
   "execution_count": 14,
   "id": "b2e7b8b1",
   "metadata": {},
   "outputs": [
    {
     "name": "stdout",
     "output_type": "stream",
     "text": [
      "2\n",
      "Python\n",
      "-2\n",
      "Case #1: onPyth\n",
      "Python\n",
      "1\n",
      "Case #2: ythonP\n"
     ]
    }
   ],
   "source": [
    "t = int(input())\n",
    "for i in range(1,t+1):\n",
    "    s = input()\n",
    "    r = int(input())\n",
    "    if(len(s) == 0):\n",
    "        r = 0\n",
    "    else:\n",
    "        r %= len(s)\n",
    "    ans = s[r:] + s[:r]\n",
    "    print(f'Case #{i}: {ans}')"
   ]
  },
  {
   "cell_type": "code",
   "execution_count": null,
   "id": "853ad528",
   "metadata": {},
   "outputs": [],
   "source": []
  }
 ],
 "metadata": {
  "kernelspec": {
   "display_name": "Python 3 (ipykernel)",
   "language": "python",
   "name": "python3"
  },
  "language_info": {
   "codemirror_mode": {
    "name": "ipython",
    "version": 3
   },
   "file_extension": ".py",
   "mimetype": "text/x-python",
   "name": "python",
   "nbconvert_exporter": "python",
   "pygments_lexer": "ipython3",
   "version": "3.9.13"
  }
 },
 "nbformat": 4,
 "nbformat_minor": 5
}
