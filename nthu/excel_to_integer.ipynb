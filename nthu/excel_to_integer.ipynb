{
 "cells": [
  {
   "cell_type": "code",
   "execution_count": 2,
   "id": "e638e1ed",
   "metadata": {},
   "outputs": [
    {
     "name": "stdout",
     "output_type": "stream",
     "text": [
      "2\n",
      "Z\n",
      "Case #1: 26\n",
      "ZZ\n",
      "Case #2: 702\n"
     ]
    }
   ],
   "source": [
    "T = int(input())\n",
    "for kase in range(T):\n",
    "    roman = input()\n",
    "    res = 0\n",
    "    for c in roman:\n",
    "        res *= 26\n",
    "        res += ord(c) - ord('A') + 1\n",
    "    print(f'Case #{kase+1}: {res}')"
   ]
  }
 ],
 "metadata": {
  "kernelspec": {
   "display_name": "Python 3 (ipykernel)",
   "language": "python",
   "name": "python3"
  },
  "language_info": {
   "codemirror_mode": {
    "name": "ipython",
    "version": 3
   },
   "file_extension": ".py",
   "mimetype": "text/x-python",
   "name": "python",
   "nbconvert_exporter": "python",
   "pygments_lexer": "ipython3",
   "version": "3.9.13"
  }
 },
 "nbformat": 4,
 "nbformat_minor": 5
}
