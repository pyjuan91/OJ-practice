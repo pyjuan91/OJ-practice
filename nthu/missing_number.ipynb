{
 "cells": [
  {
   "cell_type": "code",
   "execution_count": 2,
   "id": "47222742",
   "metadata": {},
   "outputs": [],
   "source": [
    "def chaewon(li:list)->int:\n",
    "    for i, v in enumerate(li):\n",
    "        if i != v:\n",
    "            return i\n",
    "    return 0"
   ]
  },
  {
   "cell_type": "code",
   "execution_count": 3,
   "id": "12454298",
   "metadata": {},
   "outputs": [
    {
     "name": "stdout",
     "output_type": "stream",
     "text": [
      "2\n",
      "3 0 1\n",
      "Case #1: 2\n",
      "0 1\n",
      "Case #2: 0\n"
     ]
    }
   ],
   "source": [
    "t = int(input())\n",
    "for kase in range(t):\n",
    "    li = list(map(int,input().split()))\n",
    "    li.sort()\n",
    "    print(f'Case #{kase+1}: {chaewon(li)}')\n",
    "    "
   ]
  }
 ],
 "metadata": {
  "kernelspec": {
   "display_name": "Python 3 (ipykernel)",
   "language": "python",
   "name": "python3"
  },
  "language_info": {
   "codemirror_mode": {
    "name": "ipython",
    "version": 3
   },
   "file_extension": ".py",
   "mimetype": "text/x-python",
   "name": "python",
   "nbconvert_exporter": "python",
   "pygments_lexer": "ipython3",
   "version": "3.9.13"
  }
 },
 "nbformat": 4,
 "nbformat_minor": 5
}
