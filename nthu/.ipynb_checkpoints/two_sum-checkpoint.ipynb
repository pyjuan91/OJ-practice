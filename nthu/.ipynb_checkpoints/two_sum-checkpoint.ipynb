{
 "cells": [
  {
   "cell_type": "code",
   "execution_count": 2,
   "id": "47db7c66",
   "metadata": {},
   "outputs": [
    {
     "name": "stdout",
     "output_type": "stream",
     "text": [
      "2\n",
      "9\n",
      "1 2 3 4 5\n",
      "Case #1: [3, 4]\n",
      "16\n",
      "2 4 6 8 10\n",
      "Case #2: [2, 4]\n"
     ]
    }
   ],
   "source": [
    "T = int(input())\n",
    "for kase in range(T):\n",
    "    tar = int(input())\n",
    "    li = list(map(int, input().split()))\n",
    "    spe = [(v,i) for i,v in enumerate(li)]\n",
    "    spe.sort()\n",
    "    left, right = 0, len(li)-1\n",
    "    while left + 1 < right:\n",
    "        if spe[left][0] + spe[right][0] == tar:\n",
    "            break\n",
    "        elif spe[left][0] + spe[right][0] < tar:\n",
    "            left += 1\n",
    "        else:\n",
    "            right -= 1\n",
    "    a1, a2 = min(spe[left][1], spe[right][1]), max(spe[left][1], spe[right][1])\n",
    "    print(f'Case #{kase+1}: {[a1, a2]}')"
   ]
  }
 ],
 "metadata": {
  "kernelspec": {
   "display_name": "Python 3 (ipykernel)",
   "language": "python",
   "name": "python3"
  },
  "language_info": {
   "codemirror_mode": {
    "name": "ipython",
    "version": 3
   },
   "file_extension": ".py",
   "mimetype": "text/x-python",
   "name": "python",
   "nbconvert_exporter": "python",
   "pygments_lexer": "ipython3",
   "version": "3.9.13"
  }
 },
 "nbformat": 4,
 "nbformat_minor": 5
}
