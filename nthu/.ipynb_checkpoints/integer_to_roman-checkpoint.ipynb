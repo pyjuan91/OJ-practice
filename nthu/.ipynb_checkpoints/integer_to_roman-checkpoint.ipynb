{
 "cells": [
  {
   "cell_type": "code",
   "execution_count": 3,
   "id": "d9e4f2d5",
   "metadata": {},
   "outputs": [
    {
     "name": "stdout",
     "output_type": "stream",
     "text": [
      "2\n",
      "9\n",
      "Case #1: IX\n",
      "5\n",
      "Case #2: V\n"
     ]
    }
   ],
   "source": [
    "T = int(input())\n",
    "for kase in range(T):\n",
    "    N = int(input())\n",
    "    def integer_to_roman(n:int) -> str:\n",
    "        map = {1000:'M', 500:'D', 100:'C', 50:'L', 10:'X', 5:'V', 1:'I'}\n",
    "        res = \"\"\n",
    "        while n >= 1000:\n",
    "            res += 'M'\n",
    "            n -= 1000\n",
    "        if n >= 900:\n",
    "            res += 'CM'\n",
    "            n -= 900\n",
    "        if n >= 500:\n",
    "            res += 'D'\n",
    "            n -= 500\n",
    "        if n >= 400:\n",
    "            res += 'CD'\n",
    "            n -= 400\n",
    "        while n >= 100:\n",
    "            res += 'C'\n",
    "            n -= 100\n",
    "        if n >= 90:\n",
    "            res += 'XC'\n",
    "            n -= 90\n",
    "        if n >= 50:\n",
    "            res += 'L'\n",
    "            n -= 50\n",
    "        if n >= 40:\n",
    "            res += 'XL'\n",
    "            n -= 40\n",
    "        while n >= 10:\n",
    "            res += 'X'\n",
    "            n -= 10\n",
    "        if n >= 9:\n",
    "            res += \"IX\"\n",
    "            n -= 9\n",
    "        if n >= 5:\n",
    "            res += 'V'\n",
    "            n -= 5\n",
    "        if n >= 4:\n",
    "            res += 'IV'\n",
    "            n -= 4\n",
    "        while n >= 1:\n",
    "            res += 'I'\n",
    "            n -= 1\n",
    "        return res\n",
    "    print(f'Case #{kase+1}: {integer_to_roman(N)}')"
   ]
  },
  {
   "cell_type": "code",
   "execution_count": null,
   "id": "95541a7a",
   "metadata": {},
   "outputs": [],
   "source": []
  }
 ],
 "metadata": {
  "kernelspec": {
   "display_name": "Python 3 (ipykernel)",
   "language": "python",
   "name": "python3"
  },
  "language_info": {
   "codemirror_mode": {
    "name": "ipython",
    "version": 3
   },
   "file_extension": ".py",
   "mimetype": "text/x-python",
   "name": "python",
   "nbconvert_exporter": "python",
   "pygments_lexer": "ipython3",
   "version": "3.9.13"
  }
 },
 "nbformat": 4,
 "nbformat_minor": 5
}
