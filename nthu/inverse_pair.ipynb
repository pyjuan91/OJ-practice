{
 "cells": [
  {
   "cell_type": "code",
   "execution_count": 1,
   "id": "18093dae",
   "metadata": {},
   "outputs": [
    {
     "name": "stdout",
     "output_type": "stream",
     "text": [
      "3\n",
      "1 2 3 4\n",
      "Case #1: 0\n",
      "2 5 4 3\n",
      "Case #2: 3\n",
      "5 5 1 1\n",
      "Case #3: 4\n"
     ]
    }
   ],
   "source": [
    "t = int(input())\n",
    "for kase in range(t):\n",
    "    li = list(map(int, input().split()))\n",
    "    res = 0\n",
    "    for i,v in enumerate(li):\n",
    "        for j in range(i+1, len(li)):\n",
    "            if v > li[j]:\n",
    "                res += 1\n",
    "    print(f'Case #{kase+1}: {res}')"
   ]
  }
 ],
 "metadata": {
  "kernelspec": {
   "display_name": "Python 3 (ipykernel)",
   "language": "python",
   "name": "python3"
  },
  "language_info": {
   "codemirror_mode": {
    "name": "ipython",
    "version": 3
   },
   "file_extension": ".py",
   "mimetype": "text/x-python",
   "name": "python",
   "nbconvert_exporter": "python",
   "pygments_lexer": "ipython3",
   "version": "3.9.13"
  }
 },
 "nbformat": 4,
 "nbformat_minor": 5
}
