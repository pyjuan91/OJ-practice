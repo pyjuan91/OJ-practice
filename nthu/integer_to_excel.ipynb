{
 "cells": [
  {
   "cell_type": "code",
   "execution_count": 9,
   "id": "c30f5bef",
   "metadata": {},
   "outputs": [
    {
     "name": "stdout",
     "output_type": "stream",
     "text": [
      "3\n",
      "1\n",
      "Case #1: A\n",
      "26\n",
      "Case #2: Z\n",
      "27\n",
      "Case #3: AA\n"
     ]
    }
   ],
   "source": [
    "T = int(input())\n",
    "for kase in range(T):\n",
    "    N = int(input())\n",
    "    res = []\n",
    "    while N > 0:\n",
    "        res.append(chr((N+25)%26 + 65))\n",
    "        N = (N-1) // 26\n",
    "    print(f'Case #{kase+1}: {\"\".join(reversed(res))}')\n",
    "        "
   ]
  }
 ],
 "metadata": {
  "kernelspec": {
   "display_name": "Python 3 (ipykernel)",
   "language": "python",
   "name": "python3"
  },
  "language_info": {
   "codemirror_mode": {
    "name": "ipython",
    "version": 3
   },
   "file_extension": ".py",
   "mimetype": "text/x-python",
   "name": "python",
   "nbconvert_exporter": "python",
   "pygments_lexer": "ipython3",
   "version": "3.9.13"
  }
 },
 "nbformat": 4,
 "nbformat_minor": 5
}
